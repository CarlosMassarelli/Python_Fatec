{
 "cells": [
  {
   "cell_type": "markdown",
   "metadata": {},
   "source": [
    "## Comandos condicionais"
   ]
  },
  {
   "cell_type": "code",
   "execution_count": 1,
   "metadata": {},
   "outputs": [
    {
     "ename": "ZeroDivisionError",
     "evalue": "division by zero",
     "output_type": "error",
     "traceback": [
      "\u001b[31m---------------------------------------------------------------------------\u001b[39m",
      "\u001b[31mZeroDivisionError\u001b[39m                         Traceback (most recent call last)",
      "\u001b[36mCell\u001b[39m\u001b[36m \u001b[39m\u001b[32mIn[1]\u001b[39m\u001b[32m, line 4\u001b[39m\n\u001b[32m      2\u001b[39m a=\u001b[32m10\u001b[39m\n\u001b[32m      3\u001b[39m b=\u001b[32m0\u001b[39m\n\u001b[32m----> \u001b[39m\u001b[32m4\u001b[39m r=\u001b[43ma\u001b[49m\u001b[43m/\u001b[49m\u001b[43mb\u001b[49m\n",
      "\u001b[31mZeroDivisionError\u001b[39m: division by zero"
     ]
    }
   ],
   "source": [
    "# divisão por zero\n",
    "a=10\n",
    "b=0\n",
    "r=a/b"
   ]
  },
  {
   "cell_type": "code",
   "execution_count": null,
   "metadata": {},
   "outputs": [
    {
     "name": "stdout",
     "output_type": "stream",
     "text": [
      "Divisão por zero\n"
     ]
    }
   ],
   "source": [
    "# alternativa com if\n",
    "if b==0:\n",
    "    print(\"Divisão por zero\")"
   ]
  },
  {
   "cell_type": "code",
   "execution_count": null,
   "metadata": {},
   "outputs": [
    {
     "data": {
      "text/plain": [
       "True"
      ]
     },
     "execution_count": 3,
     "metadata": {},
     "output_type": "execute_result"
    }
   ],
   "source": [
    "# usando condições simples\n",
    "a=10\n",
    "b=50\n",
    "a>0"
   ]
  },
  {
   "cell_type": "code",
   "execution_count": null,
   "metadata": {},
   "outputs": [
    {
     "data": {
      "text/plain": [
       "False"
      ]
     },
     "execution_count": 4,
     "metadata": {},
     "output_type": "execute_result"
    }
   ],
   "source": [
    "b<=0"
   ]
  },
  {
   "cell_type": "code",
   "execution_count": null,
   "metadata": {},
   "outputs": [
    {
     "data": {
      "text/plain": [
       "False"
      ]
     },
     "execution_count": 5,
     "metadata": {},
     "output_type": "execute_result"
    }
   ],
   "source": [
    "a>=b"
   ]
  },
  {
   "cell_type": "code",
   "execution_count": null,
   "metadata": {},
   "outputs": [
    {
     "data": {
      "text/plain": [
       "True"
      ]
     },
     "execution_count": 6,
     "metadata": {},
     "output_type": "execute_result"
    }
   ],
   "source": [
    "a<b"
   ]
  },
  {
   "cell_type": "code",
   "execution_count": null,
   "metadata": {},
   "outputs": [
    {
     "data": {
      "text/plain": [
       "True"
      ]
     },
     "execution_count": 7,
     "metadata": {},
     "output_type": "execute_result"
    }
   ],
   "source": [
    "5*a==b"
   ]
  },
  {
   "cell_type": "code",
   "execution_count": null,
   "metadata": {},
   "outputs": [
    {
     "data": {
      "text/plain": [
       "True"
      ]
     },
     "execution_count": 8,
     "metadata": {},
     "output_type": "execute_result"
    }
   ],
   "source": [
    "a >= pow(b,.5)"
   ]
  },
  {
   "cell_type": "code",
   "execution_count": null,
   "metadata": {},
   "outputs": [
    {
     "data": {
      "text/plain": [
       "True"
      ]
     },
     "execution_count": 9,
     "metadata": {},
     "output_type": "execute_result"
    }
   ],
   "source": [
    "# usando condições compostas\n",
    "A=10\n",
    "a>0 and b>0\n"
   ]
  },
  {
   "cell_type": "code",
   "execution_count": null,
   "metadata": {},
   "outputs": [
    {
     "data": {
      "text/plain": [
       "True"
      ]
     },
     "execution_count": 12,
     "metadata": {},
     "output_type": "execute_result"
    }
   ],
   "source": [
    "not a==0"
   ]
  },
  {
   "cell_type": "code",
   "execution_count": null,
   "metadata": {},
   "outputs": [
    {
     "data": {
      "text/plain": [
       "False"
      ]
     },
     "execution_count": 13,
     "metadata": {},
     "output_type": "execute_result"
    }
   ],
   "source": [
    "a<0 and b<0"
   ]
  },
  {
   "cell_type": "code",
   "execution_count": null,
   "metadata": {},
   "outputs": [
    {
     "name": "stdout",
     "output_type": "stream",
     "text": [
      "a\tb\ta and b\ta or b\tnot a\tnot b\n",
      "True\tTrue\tTrue\tTrue\tFalse\tFalse\n",
      "True\tFalse\tFalse\tTrue\tFalse\tTrue\n",
      "False\tTrue\tFalse\tTrue\tTrue\tFalse\n",
      "False\tFalse\tFalse\tFalse\tTrue\tTrue\n"
     ]
    }
   ],
   "source": [
    "# Tabela verdade dos operadores lógicos\n",
    "print(\"a\\tb\\ta and b\\ta or b\\tnot a\\tnot b\")\n",
    "for a_val in [True, False]:\n",
    "    for b_val in [True, False]:\n",
    "        print(f\"{a_val}\\t{b_val}\\t{a_val and b_val}\\t{a_val or b_val}\\t{not a_val}\\t{not b_val}\")"
   ]
  },
  {
   "cell_type": "code",
   "execution_count": null,
   "metadata": {},
   "outputs": [
    {
     "data": {
      "text/plain": [
       "True"
      ]
     },
     "execution_count": 15,
     "metadata": {},
     "output_type": "execute_result"
    }
   ],
   "source": [
    "a=15\n",
    "b=9\n",
    "c=9\n",
    "b == c or a<b and a<c"
   ]
  },
  {
   "cell_type": "code",
   "execution_count": null,
   "metadata": {},
   "outputs": [
    {
     "data": {
      "text/plain": [
       "False"
      ]
     },
     "execution_count": 16,
     "metadata": {},
     "output_type": "execute_result"
    }
   ],
   "source": [
    "(b == c or a<b) and a<c"
   ]
  },
  {
   "cell_type": "code",
   "execution_count": null,
   "metadata": {},
   "outputs": [
    {
     "name": "stdout",
     "output_type": "stream",
     "text": [
      "Expressão\t\tResultado\n",
      "not a_val and b_val\t False\n",
      "a_val or not b_val\t True\n",
      "a_val and b_val or not c\t False\n",
      "not (a_val or b_val)\t True\n",
      "(not a_val) and b_val\t False\n"
     ]
    }
   ],
   "source": [
    "# Tabela com a ordem das operações booleanas\n",
    "print(\"Expressão\\t\\tResultado\")\n",
    "print(\"not a_val and b_val\\t\", not a_val and b_val)\n",
    "print(\"a_val or not b_val\\t\", a_val or not b_val)\n",
    "print(\"a_val and b_val or not c\\t\", a_val and b_val or not c)\n",
    "print(\"not (a_val or b_val)\\t\", not (a_val or b_val))\n",
    "print(\"(not a_val) and b_val\\t\", (not a_val) and b_val)"
   ]
  },
  {
   "cell_type": "code",
   "execution_count": null,
   "metadata": {},
   "outputs": [
    {
     "name": "stdout",
     "output_type": "stream",
     "text": [
      "a é igual a b\n"
     ]
    }
   ],
   "source": [
    "# comandos condicionais if, elif, else\n",
    "a=int(input(\"Digite um número: \"))\n",
    "b=int(input(\"Digite outro número: \"))\n",
    "if a>b:\n",
    "    print(\"a é maior que b\")\n",
    "elif a<b:\n",
    "    print(\"a é menor que b\")\n",
    "else:\n",
    "    print(\"a é igual a b\")\n",
    "    \n"
   ]
  },
  {
   "cell_type": "code",
   "execution_count": null,
   "metadata": {},
   "outputs": [
    {
     "data": {
      "text/plain": [
       "False"
      ]
     },
     "execution_count": 4,
     "metadata": {},
     "output_type": "execute_result"
    }
   ],
   "source": [
    "a='a'\n",
    "b='f'\n",
    "a>b"
   ]
  },
  {
   "cell_type": "code",
   "execution_count": null,
   "metadata": {},
   "outputs": [
    {
     "data": {
      "text/plain": [
       "False"
      ]
     },
     "execution_count": 5,
     "metadata": {},
     "output_type": "execute_result"
    }
   ],
   "source": [
    "a==b"
   ]
  },
  {
   "cell_type": "code",
   "execution_count": null,
   "metadata": {},
   "outputs": [],
   "source": [
    "a = 3\n",
    "b = 2\n",
    "\n",
    "if a ** b > b ** a:\n",
    "    if a % b == a // 1:\n",
    "        print('UM')\n",
    "else:\n",
    "    print('DOIS')"
   ]
  },
  {
   "cell_type": "markdown",
   "metadata": {},
   "source": [
    "### Comandos de repetição"
   ]
  },
  {
   "cell_type": "code",
   "execution_count": null,
   "metadata": {},
   "outputs": [],
   "source": [
    "# while (condição):\n",
    "#     comandos\n",
    "# else:\n",
    "#     comandos\n",
    "# todo laço requer 4 elementos: inicialização, condição, incremento e comandos.\n",
    "# comandos interessantes com while:\n",
    "# 1. while True: (loop infinito)\n",
    "# 2. while False: (loop nunca executado)\n",
    "# 3. while 1: (loop infinito)\n",
    "# 4. while 0: (loop nunca executado)\n",
    "# 5. while \"\": (loop nunca executado)\n",
    "# 6. while \" \": (loop infinito)\n",
    "# 7. continue (pular para o próximo loop)\n",
    "# 8. break (sair do loop)\n",
    "# 9. else (executa após o loop, se não houver break)\n"
   ]
  },
  {
   "cell_type": "code",
   "execution_count": null,
   "metadata": {},
   "outputs": [],
   "source": []
  }
 ],
 "metadata": {
  "kernelspec": {
   "display_name": "Python 3",
   "language": "python",
   "name": "python3"
  },
  "language_info": {
   "codemirror_mode": {
    "name": "ipython",
    "version": 3
   },
   "file_extension": ".py",
   "mimetype": "text/x-python",
   "name": "python",
   "nbconvert_exporter": "python",
   "pygments_lexer": "ipython3",
   "version": "3.13.3"
  }
 },
 "nbformat": 4,
 "nbformat_minor": 2
}
