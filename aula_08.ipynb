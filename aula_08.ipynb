{
 "cells": [
  {
   "cell_type": "markdown",
   "id": "d2fee66c",
   "metadata": {},
   "source": [
    "# Aulas Python...\n",
    "## Capítulo 8"
   ]
  },
  {
   "cell_type": "code",
   "execution_count": 1,
   "id": "6dec0a4b",
   "metadata": {},
   "outputs": [
    {
     "name": "stdout",
     "output_type": "stream",
     "text": [
      "Hello World!\n"
     ]
    }
   ],
   "source": [
    "# vamos testar if in line\n",
    "print(\"Hello World!\") if 1 == 1 else print(\"Hello World!\")\n",
    "\n"
   ]
  },
  {
   "cell_type": "code",
   "execution_count": 6,
   "id": "6c2c7909",
   "metadata": {},
   "outputs": [
    {
     "name": "stdout",
     "output_type": "stream",
     "text": [
      "Alternativa com if clássico\n",
      "guelio de codigo n/códigos filtrados --> [103, 117, 101, 108, 105, 111, 100, 101, 111, 100, 105, 103, 111]\n"
     ]
    }
   ],
   "source": [
    "# vamos usar o if em uma linha sem o else\n",
    "codigos = [103,117,101,108,105,111,32,100,101,32,99,111,100,105,103,111]\n",
    "print('Alternativa com if clássico')\n",
    "for codigo in codigos:\n",
    "    if codigo == 32:\n",
    "        print(' ', end='')\n",
    "    else:\n",
    "        print(chr(codigo), end='')\n",
    "lista = []\n",
    "for codigo in codigos:\n",
    "    lista.append(codigo) if 100 <= codigo and codigo <= 120 else 0\n",
    "print (f' n/códigos filtrados --> {lista}')\n",
    "        "
   ]
  },
  {
   "cell_type": "code",
   "execution_count": 9,
   "id": "114ff0b5",
   "metadata": {},
   "outputs": [
    {
     "name": "stdout",
     "output_type": "stream",
     "text": [
      "Alternativa com if in-line\n",
      "Número 0 é par\n"
     ]
    }
   ],
   "source": [
    "# característica de retorno de valor no if in-line\n",
    "print('Alternativa com if in-line')\n",
    "x=int(input('Digite um número: '))\n",
    "print(f'Número {x} é par') if x % 2 == 0 else print(f'Número {x} é ímpar')\n"
   ]
  },
  {
   "cell_type": "code",
   "execution_count": 10,
   "id": "94091ae8",
   "metadata": {},
   "outputs": [
    {
     "name": "stdout",
     "output_type": "stream",
     "text": [
      "zzz"
     ]
    }
   ],
   "source": [
    "s=123\n",
    "for d in str(s):\n",
    "    match d:\n",
    "        case 3: print('x', end='')\n",
    "        case 2: print('a', end='')\n",
    "        case 1: print('y', end='')\n",
    "        case _: print('z', end='')"
   ]
  },
  {
   "cell_type": "code",
   "execution_count": 11,
   "id": "3d5f2adf",
   "metadata": {},
   "outputs": [
    {
     "name": "stdout",
     "output_type": "stream",
     "text": [
      "True\n"
     ]
    }
   ],
   "source": [
    "#Qual é o resultado produzido pela execução do código que segue?\n",
    "\n",
    "a, b = 12, 5\n",
    "if a + b:\n",
    "    print('True')\n",
    "else:\n",
    "  print('False')"
   ]
  }
 ],
 "metadata": {
  "kernelspec": {
   "display_name": "Python 3",
   "language": "python",
   "name": "python3"
  },
  "language_info": {
   "codemirror_mode": {
    "name": "ipython",
    "version": 3
   },
   "file_extension": ".py",
   "mimetype": "text/x-python",
   "name": "python",
   "nbconvert_exporter": "python",
   "pygments_lexer": "ipython3",
   "version": "3.13.3"
  }
 },
 "nbformat": 4,
 "nbformat_minor": 5
}
