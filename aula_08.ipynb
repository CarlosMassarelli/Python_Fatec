{
 "cells": [
  {
   "cell_type": "markdown",
   "id": "d2fee66c",
   "metadata": {},
   "source": [
    "# Aulas Python...\n",
    "## Capítulo 8"
   ]
  },
  {
   "cell_type": "code",
   "execution_count": 1,
   "id": "6dec0a4b",
   "metadata": {},
   "outputs": [
    {
     "name": "stdout",
     "output_type": "stream",
     "text": [
      "Hello World!\n"
     ]
    }
   ],
   "source": [
    "# vamos testar if in line\n",
    "print(\"Hello World!\") if 1 == 1 else print(\"Hello World!\")\n",
    "\n"
   ]
  },
  {
   "cell_type": "code",
   "execution_count": 6,
   "id": "6c2c7909",
   "metadata": {},
   "outputs": [
    {
     "name": "stdout",
     "output_type": "stream",
     "text": [
      "Alternativa com if clássico\n",
      "guelio de codigo n/códigos filtrados --> [103, 117, 101, 108, 105, 111, 100, 101, 111, 100, 105, 103, 111]\n"
     ]
    }
   ],
   "source": [
    "# vamos usar o if em uma linha sem o else\n",
    "codigos = [103,117,101,108,105,111,32,100,101,32,99,111,100,105,103,111]\n",
    "print('Alternativa com if clássico')\n",
    "for codigo in codigos:\n",
    "    if codigo == 32:\n",
    "        print(' ', end='')\n",
    "    else:\n",
    "        print(chr(codigo), end='')\n",
    "lista = []\n",
    "for codigo in codigos:\n",
    "    lista.append(codigo) if 100 <= codigo and codigo <= 120 else 0\n",
    "print (f' n/códigos filtrados --> {lista}')\n",
    "        "
   ]
  },
  {
   "cell_type": "code",
   "execution_count": 9,
   "id": "114ff0b5",
   "metadata": {},
   "outputs": [
    {
     "name": "stdout",
     "output_type": "stream",
     "text": [
      "Alternativa com if in-line\n",
      "Número 0 é par\n"
     ]
    }
   ],
   "source": [
    "# característica de retorno de valor no if in-line\n",
    "print('Alternativa com if in-line')\n",
    "x=int(input('Digite um número: '))\n",
    "print(f'Número {x} é par') if x % 2 == 0 else print(f'Número {x} é ímpar')\n"
   ]
  },
  {
   "cell_type": "code",
   "execution_count": 10,
   "id": "94091ae8",
   "metadata": {},
   "outputs": [
    {
     "name": "stdout",
     "output_type": "stream",
     "text": [
      "zzz"
     ]
    }
   ],
   "source": [
    "s=123\n",
    "for d in str(s):\n",
    "    match d:\n",
    "        case 3: print('x', end='')\n",
    "        case 2: print('a', end='')\n",
    "        case 1: print('y', end='')\n",
    "        case _: print('z', end='')"
   ]
  },
  {
   "cell_type": "code",
   "execution_count": 11,
   "id": "3d5f2adf",
   "metadata": {},
   "outputs": [
    {
     "name": "stdout",
     "output_type": "stream",
     "text": [
      "True\n"
     ]
    }
   ],
   "source": [
    "#Qual é o resultado produzido pela execução do código que segue?\n",
    "\n",
    "a, b = 12, 5\n",
    "if a + b:\n",
    "    print('True')\n",
    "else:\n",
    "  print('False')"
   ]
  },
  {
   "cell_type": "code",
   "execution_count": 2,
   "id": "be3fc8a8",
   "metadata": {},
   "outputs": [
    {
     "name": "stdout",
     "output_type": "stream",
     "text": [
      "Código fornecido é inválido\n"
     ]
    }
   ],
   "source": [
    "# testes com match\n",
    "LL = int(input('Digite a linha de calçados: ')) \n",
    "match LL: \n",
    "    case 16: print('Bebê') \n",
    "    case 23: print('Infantil feminino') \n",
    "    case 25: print('Infantil masculino') \n",
    "    case 29: print('Infantil esportivo') \n",
    "    case 42: print('Masculino formal') \n",
    "    case 43: print('Masculino casual') \n",
    "    case 49: print('Masculino esportivo') \n",
    "    case 52: print('Feminino formal salto baixo') \n",
    "    case 53: print('Feminino formal salto alto') \n",
    "    case 55: print('Feminino casual salto baixo') \n",
    "    case 56: print('Feminino casual salto alto') \n",
    "    case 59: print('Feminino esportivo') \n",
    "    case _: print('Código fornecido é inválido')"
   ]
  },
  {
   "cell_type": "markdown",
   "id": "da8bb3da",
   "metadata": {},
   "source": [
    "## Criando conjuntos"
   ]
  },
  {
   "cell_type": "code",
   "execution_count": 3,
   "id": "29066c45",
   "metadata": {},
   "outputs": [
    {
     "data": {
      "text/plain": [
       "set"
      ]
     },
     "execution_count": 3,
     "metadata": {},
     "output_type": "execute_result"
    }
   ],
   "source": [
    "# conjunto de dados\n",
    "# conjuntos são mutáveis, não podem ser indexados\n",
    "# conjuntos não podem ter elementos duplicados\n",
    "c1 = {16,8,21,41,28}\n",
    "type(c1)"
   ]
  },
  {
   "cell_type": "code",
   "execution_count": 4,
   "id": "12147d34",
   "metadata": {},
   "outputs": [
    {
     "data": {
      "text/plain": [
       "set"
      ]
     },
     "execution_count": 4,
     "metadata": {},
     "output_type": "execute_result"
    }
   ],
   "source": [
    "# criando conjuntos vazios\n",
    "c2 = set()\n",
    "# observe que não podemos usar {} para criar um conjunto vazio\n",
    "# {} cria um dicionário vazio\n",
    "# por isso, use set() - construtor da classe set\n",
    "c3 = {}\n",
    "type(c3)\n",
    "type(c2)\n",
    "\n"
   ]
  },
  {
   "cell_type": "code",
   "execution_count": null,
   "id": "06fe649c",
   "metadata": {},
   "outputs": [
    {
     "name": "stdout",
     "output_type": "stream",
     "text": [
      "{3, 4}\n",
      "{1, 2, 3, 4, 5, 6}\n",
      "{1, 2}\n",
      "{1, 2, 5, 6}\n"
     ]
    }
   ],
   "source": [
    "# Operações com conjuntos\n",
    "A = {1, 2, 3, 4}\n",
    "B = {3, 4, 5, 6}\n",
    "\n",
    "print(A & B)  # Interseção → {3, 4}\n",
    "print(A | B)  # União → {1, 2, 3, 4, 5, 6}\n",
    "print(A - B)  # Diferença → {1, 2}\n",
    "print(A ^ B)  # Diferença simétrica → {1, 2, 5, 6}\n"
   ]
  },
  {
   "cell_type": "code",
   "execution_count": 7,
   "id": "ed2c8364",
   "metadata": {},
   "outputs": [
    {
     "name": "stdout",
     "output_type": "stream",
     "text": [
      "{'o', 't', 'h', 'P', 'y', 'n'}\n",
      "{'C++', 'Python', 'Java'}\n",
      "{1, 2, 3, 4}\n",
      "{1, 2, 3, 4}\n"
     ]
    }
   ],
   "source": [
    "# outras formas de criar conjuntos\n",
    "# usando a função set()\n",
    "# a função set() aceita como argumento qualquer objeto iterável\n",
    "c1 = set('Python') # converte string em conjunto\n",
    "c2 = set(['Python', 'Java', 'C++']) # converte lista em conjunto\n",
    "c3 = set((1, 2, 3, 4)) # converte tupla em conjunto\n",
    "c4 = set({1, 2, 3, 4}) # converte dicionário em conjunto\n",
    "print(c1)\n",
    "print(c2)\n",
    "print(c3)\n",
    "print(c4)\n",
    "\n",
    "\n"
   ]
  },
  {
   "cell_type": "code",
   "execution_count": 10,
   "id": "e849d409",
   "metadata": {},
   "outputs": [
    {
     "name": "stdout",
     "output_type": "stream",
     "text": [
      "A conversão de dicionários em listas tras somente as chaves: {'carla', 'eric', 'ana'}\n",
      "{'ana': 3000, 'carla': 4000}\n"
     ]
    }
   ],
   "source": [
    "# uma aplicação prática de conjuntos para análise de dados\n",
    "nomes = ('ana', 'bruno', 'carla', 'daniel')\n",
    "salarios = {'ana': 3000, 'carla': 4000, 'eric': 3500}\n",
    "\n",
    "# Convertendo para conjuntos:\n",
    "nomes_set = set(nomes)\n",
    "salarios_set = set(salarios)\n",
    "print(f'A conversão de dicionários em listas tras somente as chaves:',salarios_set)\n",
    "# Buscando interseção (quem está em ambos)\n",
    "comuns = nomes_set & salarios_set  # {'ana', 'carla'}\n",
    "\n",
    "# Convertendo de volta:\n",
    "resultados = {nome: salarios[nome] for nome in comuns}\n",
    "print(resultados)\n",
    "# {'ana': 3000, 'carla': 4000}\n"
   ]
  },
  {
   "cell_type": "code",
   "execution_count": null,
   "id": "821818ea",
   "metadata": {},
   "outputs": [
    {
     "name": "stdout",
     "output_type": "stream",
     "text": [
      "{'t', 'p', 'h', 'ã', 'P', 'r', ' ', 'é', 'd', 'ç', 'm', 'l', 'g', 'y', 'n'}\n",
      "{'h', 'P', 'a', 'i', 'g', 'l', 't', 'r', ' ', 'u', 'm', 'n', 'o', 'é', 'ç', 'y', 'p', 'ã', 'd', 'e'}\n"
     ]
    }
   ],
   "source": [
    "# criando conjuntos a partir de outros elementos\n",
    "texto = 'Python é uma linguagem de programação'\n",
    "conjunto = {letra for letra in texto if letra not in 'aeiou'} # utilizando compreensão de conjuntos\n",
    "conjunto2 = set(texto)\n",
    "print(conjunto)\n",
    "print(conjunto2)"
   ]
  },
  {
   "cell_type": "code",
   "execution_count": 12,
   "id": "3415804a",
   "metadata": {},
   "outputs": [
    {
     "name": "stdout",
     "output_type": "stream",
     "text": [
      "o endereço de memória de c1 é  2236760409024 que contém o conjunto {1, 2, 3}\n",
      "o endereço de memória de c2 é  2236758358752 que contém o conjunto {1, 2, 3}\n"
     ]
    }
   ],
   "source": [
    "# usando o construtor para criar cópia de conjuntos em diferentes posições da memória\n",
    "# o construtor set() cria uma cópia do conjunto\n",
    "c1 = {1, 2, 3}\n",
    "c2 = set(c1)\n",
    "print(f'o endereço de memória de c1 é ',id(c1),'que contém o conjunto',c1)\n",
    "print(f'o endereço de memória de c2 é ',id(c2),'que contém o conjunto',c2)\n",
    "\n"
   ]
  },
  {
   "cell_type": "code",
   "execution_count": 14,
   "id": "a4f62d99",
   "metadata": {},
   "outputs": [
    {
     "name": "stdout",
     "output_type": "stream",
     "text": [
      "O hash de Python é 72270094809906613\n",
      "O hash de Python é 72270094809906613\n",
      "O hash de python é -2634338615833874973\n",
      "Os valores têm que ser iguais para o mesmo hash\n"
     ]
    }
   ],
   "source": [
    "# trabalhando com hash\n",
    "# hash é uma função que possibilita a verificação de integridade de dados, portanto, é uma função unidirecional e, somente, trata dados imutáveis\n",
    "# hash é uma função que transforma dados de tamanho variável em um valor fixo\n",
    "str1 = 'Python'\n",
    "str2 = 'Python'\n",
    "str3 = 'python'\n",
    "print(f'O hash de {str1} é {hash(str1)}')\n",
    "print(f'O hash de {str2} é {hash(str2)}')\n",
    "print(f'O hash de {str3} é {hash(str3)}')\n",
    "print(f'Os valores têm que ser iguais para o mesmo hash')\n"
   ]
  },
  {
   "cell_type": "code",
   "execution_count": null,
   "id": "4f980505",
   "metadata": {},
   "outputs": [
    {
     "ename": "TypeError",
     "evalue": "unhashable type: 'set'",
     "output_type": "error",
     "traceback": [
      "\u001b[31m---------------------------------------------------------------------------\u001b[39m",
      "\u001b[31mTypeError\u001b[39m                                 Traceback (most recent call last)",
      "\u001b[36mCell\u001b[39m\u001b[36m \u001b[39m\u001b[32mIn[15]\u001b[39m\u001b[32m, line 3\u001b[39m\n\u001b[32m      1\u001b[39m \u001b[38;5;66;03m# é a existência de um hash que possibilita a criação de conjuntos\u001b[39;00m\n\u001b[32m      2\u001b[39m conjunto = {\u001b[32m207\u001b[39m, \u001b[32m37\u001b[39m, \u001b[32m2.3\u001b[39m, (\u001b[32m1\u001b[39m, \u001b[32m2\u001b[39m, \u001b[32m3\u001b[39m), \u001b[33m'\u001b[39m\u001b[33mPython\u001b[39m\u001b[33m'\u001b[39m, \u001b[38;5;28;01mTrue\u001b[39;00m}\n\u001b[32m----> \u001b[39m\u001b[32m3\u001b[39m \u001b[38;5;28mprint\u001b[39m(\u001b[33mf\u001b[39m\u001b[33m'\u001b[39m\u001b[33mO hash de \u001b[39m\u001b[38;5;132;01m{\u001b[39;00mconjunto\u001b[38;5;132;01m}\u001b[39;00m\u001b[33m é \u001b[39m\u001b[38;5;132;01m{\u001b[39;00m\u001b[38;5;28;43mhash\u001b[39;49m\u001b[43m(\u001b[49m\u001b[43mconjunto\u001b[49m\u001b[43m)\u001b[49m\u001b[38;5;132;01m}\u001b[39;00m\u001b[33m'\u001b[39m)\n",
      "\u001b[31mTypeError\u001b[39m: unhashable type: 'set'"
     ]
    }
   ],
   "source": [
    "# é a existência de um hash que possibilita a criação de conjuntos\n",
    "conjunto = {207, 37, 2.3, (1, 2, 3), 'Python', True}\n",
    "print(f'O hash de {conjunto} é {hash(conjunto)}')\n"
   ]
  },
  {
   "cell_type": "code",
   "execution_count": 18,
   "id": "9db3db16",
   "metadata": {},
   "outputs": [
    {
     "name": "stdout",
     "output_type": "stream",
     "text": [
      "O hash de {2.3, 37, 207} é -1044658766420116460\n",
      "O hash de {(1, 2, 3)} é 695348416378838752\n",
      "O hash de {'Python'} é -5598987235925084643\n"
     ]
    }
   ],
   "source": [
    "# observe que um conjunto não pode ter elementos mutáveis para ter um hash\n",
    "# {207, 37, 2.3, (1, 2, 3), 'Python', True}\n",
    "conj1 = {207, 37, 2.3}\n",
    "conj2 = {(1, 2, 3)}\n",
    "conj3 = {'Python'}\n",
    "print(f'O hash de {conj1} é {hash(frozenset(conj1))}')\n",
    "print(f'O hash de {conj2} é {hash(frozenset(conj2))}')\n",
    "print(f'O hash de {conj3} é {hash(frozenset(conj3))}')\n",
    "\n"
   ]
  },
  {
   "cell_type": "code",
   "execution_count": 25,
   "id": "1ba70acf",
   "metadata": {},
   "outputs": [
    {
     "data": {
      "text/plain": [
       "529344067295497451"
      ]
     },
     "execution_count": 25,
     "metadata": {},
     "output_type": "execute_result"
    }
   ],
   "source": [
    "conj2 = (1, 2, 3)\n",
    "set(conj2) # observe que a função set aceita listas\n",
    "hash(conj2) # observe que a função hash não aceita listas"
   ]
  },
  {
   "cell_type": "code",
   "execution_count": 23,
   "id": "83c28a43",
   "metadata": {},
   "outputs": [
    {
     "name": "stdout",
     "output_type": "stream",
     "text": [
      "O hash de {(1, 2, 3)} é 695348416378838752\n",
      "{(1, 2, 3)}\n"
     ]
    }
   ],
   "source": [
    "print(f'O hash de {conj2} é {hash(frozenset(conj2))}')\n",
    "print(conj2)"
   ]
  },
  {
   "cell_type": "code",
   "execution_count": 26,
   "id": "e3c4b84e",
   "metadata": {},
   "outputs": [
    {
     "name": "stdout",
     "output_type": "stream",
     "text": [
      "Help on class set in module builtins:\n",
      "\n",
      "class set(object)\n",
      " |  set(iterable=(), /)\n",
      " |\n",
      " |  Build an unordered collection of unique elements.\n",
      " |\n",
      " |  Methods defined here:\n",
      " |\n",
      " |  __and__(self, value, /)\n",
      " |      Return self&value.\n",
      " |\n",
      " |  __contains__(self, object, /)\n",
      " |      x.__contains__(y) <==> y in x.\n",
      " |\n",
      " |  __eq__(self, value, /)\n",
      " |      Return self==value.\n",
      " |\n",
      " |  __ge__(self, value, /)\n",
      " |      Return self>=value.\n",
      " |\n",
      " |  __getattribute__(self, name, /)\n",
      " |      Return getattr(self, name).\n",
      " |\n",
      " |  __gt__(self, value, /)\n",
      " |      Return self>value.\n",
      " |\n",
      " |  __iand__(self, value, /)\n",
      " |      Return self&=value.\n",
      " |\n",
      " |  __init__(self, /, *args, **kwargs)\n",
      " |      Initialize self.  See help(type(self)) for accurate signature.\n",
      " |\n",
      " |  __ior__(self, value, /)\n",
      " |      Return self|=value.\n",
      " |\n",
      " |  __isub__(self, value, /)\n",
      " |      Return self-=value.\n",
      " |\n",
      " |  __iter__(self, /)\n",
      " |      Implement iter(self).\n",
      " |\n",
      " |  __ixor__(self, value, /)\n",
      " |      Return self^=value.\n",
      " |\n",
      " |  __le__(self, value, /)\n",
      " |      Return self<=value.\n",
      " |\n",
      " |  __len__(self, /)\n",
      " |      Return len(self).\n",
      " |\n",
      " |  __lt__(self, value, /)\n",
      " |      Return self<value.\n",
      " |\n",
      " |  __ne__(self, value, /)\n",
      " |      Return self!=value.\n",
      " |\n",
      " |  __or__(self, value, /)\n",
      " |      Return self|value.\n",
      " |\n",
      " |  __rand__(self, value, /)\n",
      " |      Return value&self.\n",
      " |\n",
      " |  __reduce__(self, /)\n",
      " |      Return state information for pickling.\n",
      " |\n",
      " |  __repr__(self, /)\n",
      " |      Return repr(self).\n",
      " |\n",
      " |  __ror__(self, value, /)\n",
      " |      Return value|self.\n",
      " |\n",
      " |  __rsub__(self, value, /)\n",
      " |      Return value-self.\n",
      " |\n",
      " |  __rxor__(self, value, /)\n",
      " |      Return value^self.\n",
      " |\n",
      " |  __sizeof__(self, /)\n",
      " |      S.__sizeof__() -> size of S in memory, in bytes.\n",
      " |\n",
      " |  __sub__(self, value, /)\n",
      " |      Return self-value.\n",
      " |\n",
      " |  __xor__(self, value, /)\n",
      " |      Return self^value.\n",
      " |\n",
      " |  add(self, object, /)\n",
      " |      Add an element to a set.\n",
      " |\n",
      " |      This has no effect if the element is already present.\n",
      " |\n",
      " |  clear(self, /)\n",
      " |      Remove all elements from this set.\n",
      " |\n",
      " |  copy(self, /)\n",
      " |      Return a shallow copy of a set.\n",
      " |\n",
      " |  difference(self, /, *others)\n",
      " |      Return a new set with elements in the set that are not in the others.\n",
      " |\n",
      " |  difference_update(self, /, *others)\n",
      " |      Update the set, removing elements found in others.\n",
      " |\n",
      " |  discard(self, object, /)\n",
      " |      Remove an element from a set if it is a member.\n",
      " |\n",
      " |      Unlike set.remove(), the discard() method does not raise\n",
      " |      an exception when an element is missing from the set.\n",
      " |\n",
      " |  intersection(self, /, *others)\n",
      " |      Return a new set with elements common to the set and all others.\n",
      " |\n",
      " |  intersection_update(self, /, *others)\n",
      " |      Update the set, keeping only elements found in it and all others.\n",
      " |\n",
      " |  isdisjoint(self, other, /)\n",
      " |      Return True if two sets have a null intersection.\n",
      " |\n",
      " |  issubset(self, other, /)\n",
      " |      Report whether another set contains this set.\n",
      " |\n",
      " |  issuperset(self, other, /)\n",
      " |      Report whether this set contains another set.\n",
      " |\n",
      " |  pop(self, /)\n",
      " |      Remove and return an arbitrary set element.\n",
      " |\n",
      " |      Raises KeyError if the set is empty.\n",
      " |\n",
      " |  remove(self, object, /)\n",
      " |      Remove an element from a set; it must be a member.\n",
      " |\n",
      " |      If the element is not a member, raise a KeyError.\n",
      " |\n",
      " |  symmetric_difference(self, other, /)\n",
      " |      Return a new set with elements in either the set or other but not both.\n",
      " |\n",
      " |  symmetric_difference_update(self, other, /)\n",
      " |      Update the set, keeping only elements found in either set, but not in both.\n",
      " |\n",
      " |  union(self, /, *others)\n",
      " |      Return a new set with elements from the set and all others.\n",
      " |\n",
      " |  update(self, /, *others)\n",
      " |      Update the set, adding elements from all others.\n",
      " |\n",
      " |  ----------------------------------------------------------------------\n",
      " |  Class methods defined here:\n",
      " |\n",
      " |  __class_getitem__(object, /)\n",
      " |      See PEP 585\n",
      " |\n",
      " |  ----------------------------------------------------------------------\n",
      " |  Static methods defined here:\n",
      " |\n",
      " |  __new__(*args, **kwargs)\n",
      " |      Create and return a new object.  See help(type) for accurate signature.\n",
      " |\n",
      " |  ----------------------------------------------------------------------\n",
      " |  Data and other attributes defined here:\n",
      " |\n",
      " |  __hash__ = None\n",
      "\n"
     ]
    }
   ],
   "source": [
    "help(set)"
   ]
  },
  {
   "cell_type": "code",
   "execution_count": 36,
   "id": "d82de45a",
   "metadata": {},
   "outputs": [
    {
     "name": "stdout",
     "output_type": "stream",
     "text": [
      "{1, 2, 3}\n",
      "<class 'set'>\n",
      "{1, 2, 3}\n",
      "{2, 3}\n"
     ]
    }
   ],
   "source": [
    "# usando métodos de conjuntos\n",
    "# add() - adiciona um elemento ao conjunto\n",
    "# clear() - remove todos os elementos do conjunto\n",
    "# copy() - retorna uma cópia do conjunto\n",
    "# difference() - retorna a diferença entre dois conjuntos\n",
    "# difference_update() - remove os elementos do conjunto que estão presentes em outro conjunto\n",
    "# discard() - remove um elemento do conjunto, se ele estiver presente\n",
    "# intersection() - retorna a interseção entre dois conjuntos\n",
    "# intersection_update() - atualiza o conjunto com a interseção entre dois conjuntos\n",
    "# isdisjoint() - verifica se dois conjuntos não têm elementos em comum\n",
    "# issubset() - verifica se um conjunto é subconjunto de outro\n",
    "# issuperset() - verifica se um conjunto é superconjunto de outro\n",
    "# pop() - remove e retorna um elemento aleatório do conjunto\n",
    "# remove() - remove um elemento do conjunto, se ele estiver presente\n",
    "# symmetric_difference() - retorna a diferença simétrica entre dois conjuntos\n",
    "# symmetric_difference_update() - atualiza o conjunto com a diferença simétrica entre dois conjuntos\n",
    "# union() - retorna a união entre dois conjuntos\n",
    "# update() - atualiza o conjunto com a união entre dois conjuntos\n",
    "# frozen set - conjunto imutável\n",
    "set(c1)\n",
    "print(c1)\n",
    "conj5 = set()\n",
    "conj5.add(1)\n",
    "conj5.add(2)\n",
    "conj5.add(3)\n",
    "set(conj5) # observe que a função set aceita listas\n",
    "c=set(conj5)\n",
    "print (type(c))\n",
    "print (c)\n",
    "c.pop () # remove um elemento aleatório do conjunto\n",
    "print (c)\n"
   ]
  }
 ],
 "metadata": {
  "kernelspec": {
   "display_name": "cwq",
   "language": "python",
   "name": "python3"
  },
  "language_info": {
   "codemirror_mode": {
    "name": "ipython",
    "version": 3
   },
   "file_extension": ".py",
   "mimetype": "text/x-python",
   "name": "python",
   "nbconvert_exporter": "python",
   "pygments_lexer": "ipython3",
   "version": "3.13.2"
  }
 },
 "nbformat": 4,
 "nbformat_minor": 5
}
